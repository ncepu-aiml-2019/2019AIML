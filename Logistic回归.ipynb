{
 "cells": [
  {
   "cell_type": "code",
   "execution_count": 110,
   "metadata": {},
   "outputs": [],
   "source": [
    "from numpy import*\n",
    "# 导入文件数据\n",
    "def loadDataSet(file_name):\n",
    "    # dataMat为原始数据， labelMat为原始数据的标签\n",
    "    dataMat = []     #原始数据的特征\n",
    "    labelMat = []     #原始数据的标签\n",
    "    fr = open(file_name)   #打开要解析的文件路径\n",
    "    for line in fr.readlines():\n",
    "        lineArr = line.strip().split()\n",
    "        # 为了方便计算，我们将 X0 的值设为 1.0 ，也就是在每一行的开头添加一个 1.0 作为 X0\n",
    "        dataMat.append([1.0, float(lineArr[0]), float(lineArr[1])])#为了方便后续的计算我们一般令x0为1\n",
    "        labelMat.append(int(lineArr[2]))\n",
    "    return dataMat, labelMat #返回加载好的原始数据特征，和原始数据标签"
   ]
  },
  {
   "cell_type": "code",
   "execution_count": 111,
   "metadata": {},
   "outputs": [],
   "source": [
    "# sigmoid阶跃函数\n",
    "def sigmoid(inX):\n",
    "    return 1.0 / (1 + exp(-inX))\n"
   ]
  },
  {
   "cell_type": "code",
   "execution_count": 112,
   "metadata": {},
   "outputs": [],
   "source": [
    "def gradAscent(dataMatIn,classLabels):\n",
    "    dataMatrix=mat(dataMatIn)  #转换为numpy矩阵\n",
    "    labelMat=mat(classLabels).transpose()   #transpose（）将行向量转换为列向量，转置\n",
    "    m,n=shape(dataMatrix)   #m是行数（样本数），n是列数（特征数）\n",
    "    alpha=0.001    #学习率，本书也把他叫做步长\n",
    "    maxCycles=500   #最大的迭代次数\n",
    "    weights=ones((n,1))   #生成一个初始全为1的w权重，长度自然等于特征的个数\n",
    "    for k in range(maxCycles):\n",
    "        h=sigmoid(dataMatrix*weights)   #这里计算出的h的每一行就是每一个样本通过sigmoid算出的输出值\n",
    "        error=(labelMat-h)     #error的每一行代表每一个样本输出值和真实值的误差\n",
    "        weights=weights+alpha*dataMatrix.transpose()*error   #这是一个递归公式经过一系列推到之后得出的公式\n",
    "    return weights\n",
    "\n"
   ]
  },
  {
   "cell_type": "code",
   "execution_count": 113,
   "metadata": {},
   "outputs": [],
   "source": [
    "dataarr,labelmat=loadDataSet('testSet.txt')\n",
    "gradAscent(dataarr,labelmat)\n",
    "import matplotlib.pyplot as plt"
   ]
  },
  {
   "cell_type": "code",
   "execution_count": 114,
   "metadata": {},
   "outputs": [],
   "source": [
    "#数据展示\n",
    "def plotBestFit(weights):\n",
    "    '''\n",
    "    dataArr:样本数据的特征\n",
    "    labelMat:样本数据的类别标签，即目标变量\n",
    "    weights:回归系数\n",
    "    '''\n",
    "    dataMat,labelMat=loadDataSet('testSet.txt')\n",
    "    dataArr=array(dataMat)\n",
    "    n = shape(dataArr)[0]   #获取特征集上的行数，即样本数\n",
    "    xcord1 = []; ycord1 = []   \n",
    "    xcord2 = []; ycord2 = []\n",
    "    for i in range(n):      #根据不同类别把样本分离\n",
    "        if int(labelMat[i])== 1:\n",
    "            xcord1.append(dataArr[i,1]); ycord1.append(dataArr[i,2])\n",
    "        else:\n",
    "            xcord2.append(dataArr[i,1]); ycord2.append(dataArr[i,2])\n",
    "    fig = plt.figure()\n",
    "    ax = fig.add_subplot(111)\n",
    "    ax.scatter(xcord1, ycord1, s=30, c='red', marker='s')\n",
    "    ax.scatter(xcord2, ycord2, s=30, c='green')\n",
    "    x = arange(-3.0, 3.0, 0.1)\n",
    "    # w0+w1*x+w2*y=0 => y = (-w0-w1*x)/w2   \n",
    "    y = (-weights[0]-weights[1]*x)/weights[2]\n",
    "    ax.plot(x, y)\n",
    "    plt.xlabel('X'); plt.ylabel('Y')\n",
    "    plt.show()\n",
    "\n",
    "\n"
   ]
  },
  {
   "cell_type": "code",
   "execution_count": 117,
   "metadata": {},
   "outputs": [
    {
     "data": {
      "image/png": "[encoded data removed]",
      "text/plain": [
       "<Figure size 432x288 with 1 Axes>"
      ]
     },
     "metadata": {
      "needs_background": "light"
     },
     "output_type": "display_data"
    },
    {
     "name": "stdout",
     "output_type": "stream",
     "text": [
      "[[ 4.12414349]\n",
      " [ 0.48007329]\n",
      " [-0.6168482 ]]\n"
     ]
    }
   ],
   "source": [
    "\n",
    "wei=(gradAscent(dataarr,labelmat))\n",
    "\n",
    "plotBestFit( wei.getA())\n",
    "print(wei)"
   ]
  },
  {
   "cell_type": "code",
   "execution_count": null,
   "metadata": {},
   "outputs": [],
   "source": []
  },
  {
   "cell_type": "code",
   "execution_count": null,
   "metadata": {},
   "outputs": [],
   "source": []
  },
  {
   "cell_type": "code",
   "execution_count": null,
   "metadata": {},
   "outputs": [],
   "source": []
  },
  {
   "cell_type": "code",
   "execution_count": null,
   "metadata": {},
   "outputs": [],
   "source": []
  }
 ],
 "metadata": {
  "kernelspec": {
   "display_name": "Python 3",
   "language": "python",
   "name": "python3"
  },
  "language_info": {
   "codemirror_mode": {
    "name": "ipython",
    "version": 3
   },
   "file_extension": ".py",
   "mimetype": "text/x-python",
   "name": "python",
   "nbconvert_exporter": "python",
   "pygments_lexer": "ipython3",
   "version": "3.7.3"
  }
 },
 "nbformat": 4,
 "nbformat_minor": 2
}
